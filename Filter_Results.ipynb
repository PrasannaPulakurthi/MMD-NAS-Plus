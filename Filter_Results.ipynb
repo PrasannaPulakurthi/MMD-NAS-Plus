{
 "cells": [
  {
   "cell_type": "code",
   "execution_count": 1,
   "metadata": {},
   "outputs": [
    {
     "name": "stdout",
     "output_type": "stream",
     "text": [
      "['exps/compress/silu_dynamic_no9_13_1_2024_03_25_07_14_38/Log/2024-03-25-07-14_train.log', 'exps/compress/silu_dynamic_no9_13_1_2024_03_24_21_11_57/Log/2024-03-24-21-11_train.log', 'exps/compress/silu_dynamic_no9_13_1_2024_03_25_15_41_48/Log/2024-03-25-15-41_train.log', 'exps/compress/silu_dynamic_no9_13_1_2024_03_25_07_37_00/Log/2024-03-25-07-37_train.log', 'exps/compress/silu_dynamic_no9_13_5_2024_03_26_22_20_56/Log/2024-03-26-22-20_train.log']\n",
      "silu_dynamic_no9_13_1_2024_03_25_07_14_38\n",
      "silu_dynamic_no9_13_1_2024_03_24_21_11_57\n",
      "silu_dynamic_no9_13_1_2024_03_25_15_41_48\n",
      "silu_dynamic_no9_13_1_2024_03_25_07_37_00\n",
      "silu_dynamic_no9_13_5_2024_03_26_22_20_56\n",
      "[['silu_dynamic_no9_13_1_2024_03_25_07_14_38', 'Best FID score: 5.913159467718856, Best IS score: 9.435701370239258. || @ epoch 321.'], ['silu_dynamic_no9_13_1_2024_03_24_21_11_57', 'Best FID score: 6.1285920971009205'], ['silu_dynamic_no9_13_1_2024_03_25_15_41_48', 'Best FID score: 5.888328501003798'], ['silu_dynamic_no9_13_1_2024_03_25_07_37_00', 'Best FID score: 5.7253618154554715'], ['silu_dynamic_no9_13_5_2024_03_26_22_20_56', 'Best FID score: 5.868962537166226']]\n"
     ]
    },
    {
     "data": {
      "text/plain": [
       "'scores_data.txt'"
      ]
     },
     "execution_count": 1,
     "metadata": {},
     "output_type": "execute_result"
    }
   ],
   "source": [
    "import os\n",
    "import pandas as pd\n",
    "import re\n",
    "\n",
    "# Function to find the last line with FID and IS scores\n",
    "def find_last_matching_line(file_path, pattern):\n",
    "    try:\n",
    "        with open(file_path, 'rb') as f:\n",
    "            # Go to the end of the file\n",
    "            f.seek(0, os.SEEK_END)\n",
    "            file_size = f.tell()\n",
    "            \n",
    "            # Start from the end of the file and move backwards\n",
    "            for i in range(file_size, 0, -1):\n",
    "                f.seek(i)\n",
    "                # Try to read a line\n",
    "                try:\n",
    "                    line = f.readline().decode().strip()\n",
    "                except UnicodeDecodeError:\n",
    "                    continue  # Skip lines that can't be decoded\n",
    "                \n",
    "                # If the line matches the pattern, return it\n",
    "                if re.search(pattern, line):\n",
    "                    return line\n",
    "    except Exception as e:\n",
    "        print(f\"Error reading file {file_path}: {e}\")\n",
    "    \n",
    "    # Return None if no matching line is found\n",
    "    return None\n",
    "\n",
    "# Function to find directories containing the specified keyword\n",
    "def find_directories_with_keyword(directory, keyword):\n",
    "    matching_directories = []  # List to hold all matching directory paths\n",
    "    for root, dirs, files in os.walk(directory):\n",
    "        for dir_name in dirs:\n",
    "            if keyword in dir_name:  # Check if the keyword is in the directory name\n",
    "                matching_directory = os.path.join(root, dir_name)\n",
    "                matching_directories.append(matching_directory)\n",
    "    return matching_directories\n",
    "\n",
    "# Function to list all files within given directories\n",
    "def list_files_in_directories(directories):\n",
    "    all_files = []  # List to hold all file paths\n",
    "    for directory in directories:\n",
    "        for root, dirs, files in os.walk(directory):\n",
    "            for file_name in files:\n",
    "                if file_name.endswith('.log'):\n",
    "                    file_path = os.path.join(root, file_name)\n",
    "                    all_files.append(file_path)\n",
    "    return all_files\n",
    "\n",
    "\n",
    "# Base directory containing potential subfolders\n",
    "base_directory = 'exps/compress'\n",
    "# Keyword to search for in directory names\n",
    "keyword = 'silu_dynamic_no9_13'\n",
    "\n",
    "# Find directories containing the keyword\n",
    "directories = find_directories_with_keyword(base_directory, keyword)\n",
    "\n",
    "# List all files within those directories\n",
    "log_files = list_files_in_directories(directories)\n",
    "print(log_files)\n",
    "\n",
    "# List to store the results\n",
    "results = []\n",
    "# Regular expression to match FID and IS scores\n",
    "regex = r\"Best FID score: ([\\d\\.]+)\"\n",
    "\n",
    "def exp_namefromfile(file):\n",
    "    parts = file.split('/')\n",
    "    exp_name = parts[-3]\n",
    "    print(exp_name)\n",
    "    pattern = r\"train_swish_(.*?)_\\d{4}_\\d{2}_\\d{2}_\\d{2}_\\d{2}_\\d{2}\"\n",
    "    # Search for the pattern and extract the group\n",
    "    match = re.search(pattern, exp_name)\n",
    "    if match:\n",
    "        desired_part = match.group(1)  # The first capturing group matches your target\n",
    "        # return(desired_part)\n",
    "    else:\n",
    "        # return(\"Pattern not found\")\n",
    "        pass\n",
    "    return(exp_name)\n",
    "\n",
    "# Process each file\n",
    "for file in log_files:\n",
    "    last_line = find_last_matching_line(file, regex)\n",
    "    exp_name = exp_namefromfile(file)\n",
    "    if last_line:  # Check if last_line is not None\n",
    "        results.append([exp_name,last_line])\n",
    "print(results)\n",
    "\n",
    "# Specify the text file path\n",
    "text_file_path = 'scores_data.txt'\n",
    "\n",
    "# Write the data to the text file\n",
    "with open(text_file_path, 'w') as file:\n",
    "    for entry in results:\n",
    "        file.write(f\"{entry}\\n\")\n",
    "\n",
    "# Return the path to the text file for download or further actions\n",
    "text_file_path"
   ]
  },
  {
   "cell_type": "code",
   "execution_count": null,
   "metadata": {},
   "outputs": [],
   "source": []
  },
  {
   "cell_type": "code",
   "execution_count": null,
   "metadata": {},
   "outputs": [],
   "source": []
  },
  {
   "cell_type": "code",
   "execution_count": null,
   "metadata": {},
   "outputs": [],
   "source": []
  },
  {
   "cell_type": "code",
   "execution_count": null,
   "metadata": {},
   "outputs": [],
   "source": []
  },
  {
   "cell_type": "code",
   "execution_count": null,
   "metadata": {},
   "outputs": [],
   "source": []
  }
 ],
 "metadata": {
  "kernelspec": {
   "display_name": "Python 3",
   "language": "python",
   "name": "python3"
  },
  "language_info": {
   "codemirror_mode": {
    "name": "ipython",
    "version": 3
   },
   "file_extension": ".py",
   "mimetype": "text/x-python",
   "name": "python",
   "nbconvert_exporter": "python",
   "pygments_lexer": "ipython3",
   "version": "3.8.7"
  }
 },
 "nbformat": 4,
 "nbformat_minor": 4
}
